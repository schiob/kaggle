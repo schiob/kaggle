{
 "metadata": {
  "name": "",
  "signature": "sha256:9f5f79b219541d58a0b5499f5882b233904bea9cd09b30f69d1f30bc93b633b7"
 },
 "nbformat": 3,
 "nbformat_minor": 0,
 "worksheets": [
  {
   "cells": [
    {
     "cell_type": "code",
     "collapsed": false,
     "input": [
      "from sklearn.ensemble import RandomForestClassifier\n",
      "from numpy import genfromtxt, savetxt\n",
      "\n",
      "def main():\n",
      "    # create the training and test sets\n",
      "    dataset = genfromtxt('data/train.csv', delimiter=',', dtype='f8', skip_header=1)\n",
      "    target = [x[0] for x in dataset]\n",
      "    train = [x[1:] for x in dataset]\n",
      "    test = genfromtxt('data/test.csv', delimiter=',', dtype='f8', skip_header=1)\n",
      "    \n",
      "    #create and train the random forest\n",
      "    rf = RandomForestClassifier(n_estimators=100)\n",
      "    rf.fit(train, target)\n",
      "    predicted_probs = [[index + 1, x[1]] for index, x in enumerate(rf.predict_proba(test))]\n",
      "    \n",
      "    savetxt('data/submission.cvs', predicted_probs, delimiter=',', fmt='%d,%f', \n",
      "            header='MoleculeId,PredictedProbability', comments='')\n",
      "\n",
      "if __name__ == '__main__':\n",
      "    main()"
     ],
     "language": "python",
     "metadata": {},
     "outputs": [],
     "prompt_number": 2
    },
    {
     "cell_type": "code",
     "collapsed": false,
     "input": [],
     "language": "python",
     "metadata": {},
     "outputs": []
    }
   ],
   "metadata": {}
  }
 ]
}