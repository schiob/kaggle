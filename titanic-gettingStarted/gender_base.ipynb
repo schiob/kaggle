{
 "metadata": {
  "name": "",
  "signature": "sha256:4dc6edef7d52645a9a67de056541db116ad9ab6a9abefe78d09fb9ee189e25ac"
 },
 "nbformat": 3,
 "nbformat_minor": 0,
 "worksheets": [
  {
   "cells": [
    {
     "cell_type": "code",
     "collapsed": false,
     "input": [
      "%matplotlib inline"
     ],
     "language": "python",
     "metadata": {},
     "outputs": [],
     "prompt_number": 1
    },
    {
     "cell_type": "code",
     "collapsed": false,
     "input": [
      "import csv\n",
      "import numpy as np\n",
      "import matplotlib.pyplot as plt\n",
      "\n",
      "csv_file = csv.reader(open('data/train.csv', 'rU'))\n",
      "header = next(csv_file)\n",
      "\n",
      "d = []\n",
      "for row in csv_file:\n",
      "    d.append(row)\n",
      "data_set = np.array(d)\n",
      "print(header, data_set[5], sep='\\n')"
     ],
     "language": "python",
     "metadata": {},
     "outputs": [
      {
       "output_type": "stream",
       "stream": "stdout",
       "text": [
        "['PassengerId', 'Survived', 'Pclass', 'Name', 'Sex', 'Age', 'SibSp', 'Parch', 'Ticket', 'Fare', 'Cabin', 'Embarked']\n",
        "['6' '0' '3' 'Moran, Mr. James' 'male' '' '0' '0' '330877' '8.4583' '' 'Q']\n"
       ]
      }
     ],
     "prompt_number": 36
    },
    {
     "cell_type": "code",
     "collapsed": false,
     "input": [
      "number_passengers = np.size(data_set[:,1].astype(np.float))\n",
      "number_survived = np.sum(data_set[:,1].astype(np.float))\n",
      "proportion_survivors = number_survived / number_passengers\n",
      "print(number_passengers, number_survived, proportion_survivors, sep='\\n')"
     ],
     "language": "python",
     "metadata": {},
     "outputs": [
      {
       "output_type": "stream",
       "stream": "stdout",
       "text": [
        "891\n",
        "342.0\n",
        "0.383838383838\n"
       ]
      }
     ],
     "prompt_number": 39
    },
    {
     "cell_type": "code",
     "collapsed": false,
     "input": [
      "female_stats = data_set[:, 4] == 'female'\n",
      "men_stats = data_set[:, 4] == 'male'"
     ],
     "language": "python",
     "metadata": {},
     "outputs": [],
     "prompt_number": 41
    },
    {
     "cell_type": "code",
     "collapsed": false,
     "input": [
      "women_onboard = data_set[female_stats,1].astype(np.float)     \n",
      "men_onboard = data_set[men_stats,1].astype(np.float)\n",
      "\n",
      "proportion_women_survived = np.sum(women_onboard) / np.size(women_onboard)  \n",
      "proportion_men_survived = np.sum(men_onboard) / np.size(men_onboard)\n",
      "print(proportion_men_survived, proportion_women_survived)"
     ],
     "language": "python",
     "metadata": {},
     "outputs": [
      {
       "output_type": "stream",
       "stream": "stdout",
       "text": [
        "0.188908145581 0.742038216561\n"
       ]
      }
     ],
     "prompt_number": 49
    },
    {
     "cell_type": "code",
     "collapsed": false,
     "input": [
      "plt.bar([0, 1], [np.sum(men_onboard), np.sum(women_onboard)])"
     ],
     "language": "python",
     "metadata": {},
     "outputs": [
      {
       "metadata": {},
       "output_type": "pyout",
       "prompt_number": 48,
       "text": [
        "<Container object of 2 artists>"
       ]
      },
      {
       "metadata": {},
       "output_type": "display_data",
       "png": "[encoded data removed]",
       "text": [
        "<matplotlib.figure.Figure at 0x7f7379c32dd8>"
       ]
      }
     ],
     "prompt_number": 48
    },
    {
     "cell_type": "code",
     "collapsed": false,
     "input": [
      "import random as r\n",
      "test_file = csv.reader(open('data/test.csv', 'r'))\n",
      "header = next(test_file)\n",
      "\n",
      "prediction = csv.writer(open('data/genderbasemodel.csv', 'w'))\n",
      "\n",
      "prediction.writerow([\"PassengerId\", \"Survived\"])\n",
      "for row in test_file:       # For each row in test.csv\n",
      "    if row[3] == 'female':         # is it a female, if yes then                                       \n",
      "        prediction.writerow([row[0],'0' if r.random() < proportion_women_survived else '1'])    # predict 1\n",
      "    else:                           # or else if male,       \n",
      "        prediction.writerow([row[0],'0' if r.random() < proportion_men_survived else '1'])    # predict 0"
     ],
     "language": "python",
     "metadata": {},
     "outputs": [],
     "prompt_number": 55
    }
   ],
   "metadata": {}
  }
 ]
}